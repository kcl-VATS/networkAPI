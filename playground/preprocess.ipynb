{
 "cells": [
  {
   "cell_type": "code",
   "execution_count": 2,
   "metadata": {},
   "outputs": [],
   "source": [
    "import pandas as pd"
   ]
  },
  {
   "cell_type": "code",
   "execution_count": 11,
   "metadata": {},
   "outputs": [],
   "source": [
    "data = pd.read_csv('../data/edit_ld_clump_assoc.csv',index_col=0)"
   ]
  },
  {
   "cell_type": "code",
   "execution_count": 41,
   "metadata": {},
   "outputs": [],
   "source": [
    "raw = pd.read_csv('../data/raw/ld_clump_assoc.txt',delimiter='\\t')\n",
    "rename = {'CpG':'cpg',\n",
    " 'Top SNP':'snp',\n",
    " 'Beta': 'beta',\n",
    " 'SE': 'se',\n",
    " 'Cis/Trans':'cistrans',\n",
    " 'CpG chr': 'cpg_chr',\n",
    " 'CpG pos': 'cpg_pos',\n",
    " 'SNP chr': 'snp_chr',\n",
    " 'SNP pos': 'snp_pos',\n",
    " 'P': 'pval'}\n",
    "\n",
    "raw = data.rename(rename, axis=1)\n",
    "\n",
    "lst = []\n",
    "for i in raw['cistrans']:\n",
    "    if i == 'cis':\n",
    "        lst.append(True)\n",
    "    else:\n",
    "        lst.append(False)\n",
    "raw['cistrans'] = lst\n",
    "raw.to_csv('edit_ld_clump_assoc.csv')\n"
   ]
  },
  {
   "cell_type": "code",
   "execution_count": 64,
   "metadata": {},
   "outputs": [],
   "source": [
    "data = pd.read_csv('../data/edit_ld_clump_assoc.csv',index_col=0)\n",
    "\n",
    "chromosome_distance = {'1':0, \n",
    "'2': 249250621,\n",
    "'3': 492449994,\n",
    "'4': 690472424,\n",
    "'5': 881626700,\n",
    "'6': 1062541960,\n",
    "'7': 1233657027,\n",
    "'8': 1392795690,\n",
    "'9': 1539159712,\n",
    "'10': 1680373143,\n",
    "'11': 1815907890,\n",
    "'12': 1950914406,\n",
    "'13': 2084766301,\n",
    "'14': 2199936179,\n",
    "'15': 2307285719,\n",
    "'16': 2409817111,\n",
    "'17': 2500171864,\n",
    "'18': 2581367074,\n",
    "'19': 2659444322,\n",
    "'20': 2718573305,\n",
    "'21': 2781598825,\n",
    "'22': 2829728720,\n",
    "'X': 2881033286,\n",
    "'Y': 3036303846}\n",
    "\n",
    "minAssoc = 10\n",
    "minDistance = 1e6\n",
    "minPval = 1e-6\n",
    "chromosomeList = ['1','2','3','4','5']\n",
    "\n"
   ]
  },
  {
   "cell_type": "code",
   "execution_count": 67,
   "metadata": {},
   "outputs": [],
   "source": [
    "\n",
    "data = data[data['cistrans']==False]\n",
    "data = data[data['pval']<minPval]\n",
    "\n",
    "\n",
    "data['cpg_pos_abs'] = data['cpg_chr'].apply(lambda cpg_chr: chromosome_distance[str(cpg_chr)]) + data['cpg_pos'] # calculate absolute distance of cpg\n",
    "data['snp_pos_abs'] = data['snp_chr'].apply(lambda snp_chr: chromosome_distance[str(snp_chr)]) + data['snp_pos'] # calculate absolute distance of snp\n",
    "data['dist'] = abs(data['cpg_pos_abs'] - data['snp_pos_abs']) # calculate distance between pairs\n",
    "data = data[data['dist']>=minDistance] # filter by min distance\n",
    "\n",
    "df_g = data.groupby('cpg') # group data by cpgs\n",
    "df_g = df_g.filter(lambda x: len(x) >= minAssoc) # filter by number of associations per cpg\n",
    "df_g = df_g.reset_index(drop=True)\n",
    "    \n",
    "df_g['id'] = df_g.index \n",
    "\n",
    "response = df_g.to_dict('records')  \n"
   ]
  },
  {
   "cell_type": "markdown",
   "metadata": {},
   "source": [
    "- Cytoband preprocess"
   ]
  },
  {
   "cell_type": "code",
   "execution_count": 3,
   "metadata": {},
   "outputs": [],
   "source": [
    "cyto = pd.read_csv('../data/raw/cytobands.csv')"
   ]
  },
  {
   "cell_type": "code",
   "execution_count": 7,
   "metadata": {},
   "outputs": [],
   "source": [
    "cyto.to_json('cyto.json',orient='records')"
   ]
  },
  {
   "cell_type": "code",
   "execution_count": null,
   "metadata": {},
   "outputs": [],
   "source": []
  }
 ],
 "metadata": {
  "kernelspec": {
   "display_name": "Python 3.10.0 ('test')",
   "language": "python",
   "name": "python3"
  },
  "language_info": {
   "codemirror_mode": {
    "name": "ipython",
    "version": 3
   },
   "file_extension": ".py",
   "mimetype": "text/x-python",
   "name": "python",
   "nbconvert_exporter": "python",
   "pygments_lexer": "ipython3",
   "version": "3.10.0"
  },
  "orig_nbformat": 4,
  "vscode": {
   "interpreter": {
    "hash": "904935d54ec79a1afcfaf087c39b476cf8589b5fa85396865b2d34a44e4112f3"
   }
  }
 },
 "nbformat": 4,
 "nbformat_minor": 2
}
