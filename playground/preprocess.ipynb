{
 "cells": [
  {
   "cell_type": "code",
   "execution_count": 2,
   "metadata": {},
   "outputs": [],
   "source": [
    "import pandas as pd"
   ]
  },
  {
   "cell_type": "code",
   "execution_count": 8,
   "metadata": {},
   "outputs": [],
   "source": [
    "data = pd.read_csv('../data/edit_ld_clump_assoc.csv',index_col=0)"
   ]
  },
  {
   "cell_type": "code",
   "execution_count": 9,
   "metadata": {},
   "outputs": [],
   "source": [
    "chromosome_distance = {'1':0, \n",
    "'2': 249250621,\n",
    "'3': 492449994,\n",
    "'4': 690472424,\n",
    "'5': 881626700,\n",
    "'6': 1062541960,\n",
    "'7': 1233657027,\n",
    "'8': 1392795690,\n",
    "'9': 1539159712,\n",
    "'10': 1680373143,\n",
    "'11': 1815907890,\n",
    "'12': 1950914406,\n",
    "'13': 2084766301,\n",
    "'14': 2199936179,\n",
    "'15': 2307285719,\n",
    "'16': 2409817111,\n",
    "'17': 2500171864,\n",
    "'18': 2581367074,\n",
    "'19': 2659444322,\n",
    "'20': 2718573305,\n",
    "'21': 2781598825,\n",
    "'22': 2829728720,\n",
    "'X': 2881033286,\n",
    "'Y': 3036303846}\n",
    "\n",
    "minAssoc = 10 \n",
    "minDistance = 5e6\n",
    "\n",
    "\n"
   ]
  },
  {
   "cell_type": "code",
   "execution_count": null,
   "metadata": {},
   "outputs": [],
   "source": [
    "\n",
    "data['cpg_pos_abs'] = data['cpg_chr'].apply(lambda cpg_chr: chromosome_distance[str(cpg_chr)]) + data['cpg_pos'] # calculate absolute distance of cpg\n",
    "data['snp_pos_abs'] = data['snp_chr'].apply(lambda snp_chr: chromosome_distance[str(snp_chr)]) + data['snp_pos'] # calculate absolute distance of snp\n",
    "data['dist'] = abs(data['cpg_pos_abs'] - data['snp_pos_abs']) # calculate distance between pairs\n",
    "\n",
    "df_g = data.groupby('cpg') # group data by cpgs\n",
    "df_g = df_g.filter(lambda x: len(x) >= minAssoc) # filter by number of associations per cpg\n",
    "df_g = df_g[df_g['dist']>=minDistance] # filter by min distance\n",
    "df_g = df_g.reset_index(drop=True)\n",
    "\n",
    "# filtering by minimum number of unique choromosomes\n",
    "#num_chrom_unique = df_g.groupby('cpg')['snp_chr'].nunique()\n",
    "#df_g = pd.merge(df_g,num_chrom_unique,on=['cpg','snp'])\n",
    "\n",
    "df_g = df_g[df_g['cpg_chr'] >= minChrom]\n",
    "df_g.reset_index()\n",
    "#df_g['inter'] = (df_g['cpg_chr'] == df_g['snp_chr'])\n",
    "#df_g = df_g[df_g['inter']== False]\n",
    "#df_g = df_g.reset_index(drop=True)\n",
    "df_g['id'] = df_g.index "
   ]
  }
 ],
 "metadata": {
  "kernelspec": {
   "display_name": "Python 3.10.0 ('test')",
   "language": "python",
   "name": "python3"
  },
  "language_info": {
   "codemirror_mode": {
    "name": "ipython",
    "version": 3
   },
   "file_extension": ".py",
   "mimetype": "text/x-python",
   "name": "python",
   "nbconvert_exporter": "python",
   "pygments_lexer": "ipython3",
   "version": "3.10.0"
  },
  "orig_nbformat": 4,
  "vscode": {
   "interpreter": {
    "hash": "904935d54ec79a1afcfaf087c39b476cf8589b5fa85396865b2d34a44e4112f3"
   }
  }
 },
 "nbformat": 4,
 "nbformat_minor": 2
}
