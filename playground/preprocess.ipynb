{
 "cells": [
  {
   "cell_type": "code",
   "execution_count": null,
   "metadata": {},
   "outputs": [],
   "source": [
    "import pandas as pd"
   ]
  },
  {
   "cell_type": "code",
   "execution_count": 50,
   "metadata": {},
   "outputs": [],
   "source": [
    "data = pd.read_csv('../data/edit_ld_clump_assoc.csv',index_col=0)"
   ]
  },
  {
   "cell_type": "code",
   "execution_count": null,
   "metadata": {},
   "outputs": [],
   "source": [
    "raw = pd.read_csv('../data/raw/ld_clump_assoc.txt',delimiter='\\t')\n",
    "rename = {'CpG':'cpg',\n",
    " 'Top SNP':'snp',\n",
    " 'Beta': 'beta',\n",
    " 'SE': 'se',\n",
    " 'Cis/Trans':'cistrans',\n",
    " 'CpG chr': 'cpg_chr',\n",
    " 'CpG pos': 'cpg_pos',\n",
    " 'SNP chr': 'snp_chr',\n",
    " 'SNP pos': 'snp_pos',\n",
    " 'P': 'pval'}\n",
    "\n",
    "raw = data.rename(rename, axis=1)\n",
    "\n",
    "lst = []\n",
    "for i in raw['cistrans']:\n",
    "    if i == 'cis':\n",
    "        lst.append(True)\n",
    "    else:\n",
    "        lst.append(False)\n",
    "raw['cistrans'] = lst\n",
    "raw.to_csv('edit_ld_clump_assoc.csv')\n"
   ]
  },
  {
   "cell_type": "code",
   "execution_count": 51,
   "metadata": {},
   "outputs": [],
   "source": [
    "data = pd.read_csv('../data/edit_ld_clump_assoc.csv',index_col=0)\n",
    "\n",
    "chromosome_distance = {'1':0, \n",
    "'2': 249250621,\n",
    "'3': 492449994,\n",
    "'4': 690472424,\n",
    "'5': 881626700,\n",
    "'6': 1062541960,\n",
    "'7': 1233657027,\n",
    "'8': 1392795690,\n",
    "'9': 1539159712,\n",
    "'10': 1680373143,\n",
    "'11': 1815907890,\n",
    "'12': 1950914406,\n",
    "'13': 2084766301,\n",
    "'14': 2199936179,\n",
    "'15': 2307285719,\n",
    "'16': 2409817111,\n",
    "'17': 2500171864,\n",
    "'18': 2581367074,\n",
    "'19': 2659444322,\n",
    "'20': 2718573305,\n",
    "'21': 2781598825,\n",
    "'22': 2829728720,\n",
    "'X': 2881033286,\n",
    "'Y': 3036303846}\n",
    "\n",
    "minAssoc = 10\n",
    "minDistance = 1e6\n",
    "minPval = 1e-6\n",
    "chromosomeList = ['1','2','3','4','5','6','7','8','9','10','11','12','13']\n",
    "\n",
    "\n"
   ]
  },
  {
   "cell_type": "code",
   "execution_count": 52,
   "metadata": {},
   "outputs": [],
   "source": [
    "# level-based network prototype \n",
    "import pandas as pd\n",
    "from pathlib import Path\n",
    "data = pd.read_csv('../data/edit_ld_clump_assoc.csv',index_col=0)"
   ]
  },
  {
   "cell_type": "code",
   "execution_count": 53,
   "metadata": {},
   "outputs": [],
   "source": [
    "# creating unique nodes for cpg and snp encoding level information \n",
    "# level 0 cpg --> query user\n",
    "# level 1 snp --> cpg-snp\n",
    "# level 1 cpg --> cpg-snp-cpg connection \n",
    "\n",
    "cpg_interest = ['cg13938959','cg23733394']\n",
    "\n",
    "cpgs = []\n",
    "snps = []\n",
    "level = 2\n",
    "\n",
    "for cpg in cpg_interest:\n",
    "    \n",
    "    start = 1\n",
    "    cpgs.append({'id':cpg,\n",
    "             'level':0})\n",
    "\n",
    "    while start <= level:\n",
    "        \n",
    "        cpg_included = [cpg['id'] for cpg in cpgs if cpg['level'] < start]\n",
    "        snps_to_include = data[data['cpg'].isin(cpg_included)]['snp'].values\n",
    "        [snps.append({'id':snp,'level':start}) for snp in snps_to_include if snp not in [snp['id'] for snp in snps]]\n",
    "        snps_included = [snp['id'] for snp in snps if snp['level'] == start]\n",
    "        cpgs_to_include = data[data['snp'].isin(snps_included)]['cpg'].values\n",
    "        [cpgs.append({'id':cpg,'level':start}) for cpg in cpgs_to_include if cpg not in [cpg['id'] for cpg in cpgs]] \n",
    "        start+= 1\n",
    "\n",
    "edges = data[data['cpg'].isin([cpg['id'] for cpg in cpgs])]\n",
    "edges = edges[edges['snp'].isin([snp['id'] for snp in snps])]"
   ]
  },
  {
   "cell_type": "code",
   "execution_count": 54,
   "metadata": {},
   "outputs": [],
   "source": [
    "data = pd.read_csv('../data/edit_ld_clump_assoc.csv',index_col=0)\n"
   ]
  },
  {
   "cell_type": "code",
   "execution_count": 56,
   "metadata": {},
   "outputs": [
    {
     "ename": "FileNotFoundError",
     "evalue": "[Errno 2] No such file or directory: '../annot/cpg_annotation.csv'",
     "output_type": "error",
     "traceback": [
      "\u001b[0;31m---------------------------------------------------------------------------\u001b[0m",
      "\u001b[0;31mFileNotFoundError\u001b[0m                         Traceback (most recent call last)",
      "\u001b[1;32m/Users/tuna/Documents/GitHub/networkAPI/playground/preprocess.ipynb Cell 8\u001b[0m in \u001b[0;36m<cell line: 33>\u001b[0;34m()\u001b[0m\n\u001b[1;32m     <a href='vscode-notebook-cell:/Users/tuna/Documents/GitHub/networkAPI/playground/preprocess.ipynb#X10sZmlsZQ%3D%3D?line=28'>29</a>\u001b[0m chromosomeList \u001b[39m=\u001b[39m [\u001b[39m'\u001b[39m\u001b[39m1\u001b[39m\u001b[39m'\u001b[39m,\u001b[39m'\u001b[39m\u001b[39m2\u001b[39m\u001b[39m'\u001b[39m,\u001b[39m'\u001b[39m\u001b[39m3\u001b[39m\u001b[39m'\u001b[39m,\u001b[39m'\u001b[39m\u001b[39m4\u001b[39m\u001b[39m'\u001b[39m,\u001b[39m'\u001b[39m\u001b[39m5\u001b[39m\u001b[39m'\u001b[39m,\u001b[39m'\u001b[39m\u001b[39m6\u001b[39m\u001b[39m'\u001b[39m,\u001b[39m'\u001b[39m\u001b[39m7\u001b[39m\u001b[39m'\u001b[39m,\u001b[39m'\u001b[39m\u001b[39m8\u001b[39m\u001b[39m'\u001b[39m,\u001b[39m'\u001b[39m\u001b[39m9\u001b[39m\u001b[39m'\u001b[39m,\u001b[39m'\u001b[39m\u001b[39m10\u001b[39m\u001b[39m'\u001b[39m,\u001b[39m'\u001b[39m\u001b[39m11\u001b[39m\u001b[39m'\u001b[39m,\u001b[39m'\u001b[39m\u001b[39m12\u001b[39m\u001b[39m'\u001b[39m] \n\u001b[1;32m     <a href='vscode-notebook-cell:/Users/tuna/Documents/GitHub/networkAPI/playground/preprocess.ipynb#X10sZmlsZQ%3D%3D?line=31'>32</a>\u001b[0m data \u001b[39m=\u001b[39m pd\u001b[39m.\u001b[39mread_csv(\u001b[39m'\u001b[39m\u001b[39m../data/edit_ld_clump_assoc.csv\u001b[39m\u001b[39m'\u001b[39m,index_col\u001b[39m=\u001b[39m\u001b[39m0\u001b[39m) \n\u001b[0;32m---> <a href='vscode-notebook-cell:/Users/tuna/Documents/GitHub/networkAPI/playground/preprocess.ipynb#X10sZmlsZQ%3D%3D?line=32'>33</a>\u001b[0m annot \u001b[39m=\u001b[39m pd\u001b[39m.\u001b[39;49mread_csv(\u001b[39m'\u001b[39;49m\u001b[39m../annot/cpg_annotation.csv\u001b[39;49m\u001b[39m'\u001b[39;49m,index_col\u001b[39m=\u001b[39;49m\u001b[39m0\u001b[39;49m)\n\u001b[1;32m     <a href='vscode-notebook-cell:/Users/tuna/Documents/GitHub/networkAPI/playground/preprocess.ipynb#X10sZmlsZQ%3D%3D?line=33'>34</a>\u001b[0m chr_lst \u001b[39m=\u001b[39m chromosomeList\n\u001b[1;32m     <a href='vscode-notebook-cell:/Users/tuna/Documents/GitHub/networkAPI/playground/preprocess.ipynb#X10sZmlsZQ%3D%3D?line=34'>35</a>\u001b[0m data[\u001b[39m'\u001b[39m\u001b[39mcpg_chr\u001b[39m\u001b[39m'\u001b[39m] \u001b[39m=\u001b[39m data[\u001b[39m'\u001b[39m\u001b[39mcpg_chr\u001b[39m\u001b[39m'\u001b[39m]\u001b[39m.\u001b[39mapply(\u001b[39mstr\u001b[39m)\n",
      "File \u001b[0;32m~/opt/anaconda3/envs/test/lib/python3.10/site-packages/pandas/util/_decorators.py:311\u001b[0m, in \u001b[0;36mdeprecate_nonkeyword_arguments.<locals>.decorate.<locals>.wrapper\u001b[0;34m(*args, **kwargs)\u001b[0m\n\u001b[1;32m    305\u001b[0m \u001b[39mif\u001b[39;00m \u001b[39mlen\u001b[39m(args) \u001b[39m>\u001b[39m num_allow_args:\n\u001b[1;32m    306\u001b[0m     warnings\u001b[39m.\u001b[39mwarn(\n\u001b[1;32m    307\u001b[0m         msg\u001b[39m.\u001b[39mformat(arguments\u001b[39m=\u001b[39marguments),\n\u001b[1;32m    308\u001b[0m         \u001b[39mFutureWarning\u001b[39;00m,\n\u001b[1;32m    309\u001b[0m         stacklevel\u001b[39m=\u001b[39mstacklevel,\n\u001b[1;32m    310\u001b[0m     )\n\u001b[0;32m--> 311\u001b[0m \u001b[39mreturn\u001b[39;00m func(\u001b[39m*\u001b[39;49margs, \u001b[39m*\u001b[39;49m\u001b[39m*\u001b[39;49mkwargs)\n",
      "File \u001b[0;32m~/opt/anaconda3/envs/test/lib/python3.10/site-packages/pandas/io/parsers/readers.py:680\u001b[0m, in \u001b[0;36mread_csv\u001b[0;34m(filepath_or_buffer, sep, delimiter, header, names, index_col, usecols, squeeze, prefix, mangle_dupe_cols, dtype, engine, converters, true_values, false_values, skipinitialspace, skiprows, skipfooter, nrows, na_values, keep_default_na, na_filter, verbose, skip_blank_lines, parse_dates, infer_datetime_format, keep_date_col, date_parser, dayfirst, cache_dates, iterator, chunksize, compression, thousands, decimal, lineterminator, quotechar, quoting, doublequote, escapechar, comment, encoding, encoding_errors, dialect, error_bad_lines, warn_bad_lines, on_bad_lines, delim_whitespace, low_memory, memory_map, float_precision, storage_options)\u001b[0m\n\u001b[1;32m    665\u001b[0m kwds_defaults \u001b[39m=\u001b[39m _refine_defaults_read(\n\u001b[1;32m    666\u001b[0m     dialect,\n\u001b[1;32m    667\u001b[0m     delimiter,\n\u001b[0;32m   (...)\u001b[0m\n\u001b[1;32m    676\u001b[0m     defaults\u001b[39m=\u001b[39m{\u001b[39m\"\u001b[39m\u001b[39mdelimiter\u001b[39m\u001b[39m\"\u001b[39m: \u001b[39m\"\u001b[39m\u001b[39m,\u001b[39m\u001b[39m\"\u001b[39m},\n\u001b[1;32m    677\u001b[0m )\n\u001b[1;32m    678\u001b[0m kwds\u001b[39m.\u001b[39mupdate(kwds_defaults)\n\u001b[0;32m--> 680\u001b[0m \u001b[39mreturn\u001b[39;00m _read(filepath_or_buffer, kwds)\n",
      "File \u001b[0;32m~/opt/anaconda3/envs/test/lib/python3.10/site-packages/pandas/io/parsers/readers.py:575\u001b[0m, in \u001b[0;36m_read\u001b[0;34m(filepath_or_buffer, kwds)\u001b[0m\n\u001b[1;32m    572\u001b[0m _validate_names(kwds\u001b[39m.\u001b[39mget(\u001b[39m\"\u001b[39m\u001b[39mnames\u001b[39m\u001b[39m\"\u001b[39m, \u001b[39mNone\u001b[39;00m))\n\u001b[1;32m    574\u001b[0m \u001b[39m# Create the parser.\u001b[39;00m\n\u001b[0;32m--> 575\u001b[0m parser \u001b[39m=\u001b[39m TextFileReader(filepath_or_buffer, \u001b[39m*\u001b[39;49m\u001b[39m*\u001b[39;49mkwds)\n\u001b[1;32m    577\u001b[0m \u001b[39mif\u001b[39;00m chunksize \u001b[39mor\u001b[39;00m iterator:\n\u001b[1;32m    578\u001b[0m     \u001b[39mreturn\u001b[39;00m parser\n",
      "File \u001b[0;32m~/opt/anaconda3/envs/test/lib/python3.10/site-packages/pandas/io/parsers/readers.py:933\u001b[0m, in \u001b[0;36mTextFileReader.__init__\u001b[0;34m(self, f, engine, **kwds)\u001b[0m\n\u001b[1;32m    930\u001b[0m     \u001b[39mself\u001b[39m\u001b[39m.\u001b[39moptions[\u001b[39m\"\u001b[39m\u001b[39mhas_index_names\u001b[39m\u001b[39m\"\u001b[39m] \u001b[39m=\u001b[39m kwds[\u001b[39m\"\u001b[39m\u001b[39mhas_index_names\u001b[39m\u001b[39m\"\u001b[39m]\n\u001b[1;32m    932\u001b[0m \u001b[39mself\u001b[39m\u001b[39m.\u001b[39mhandles: IOHandles \u001b[39m|\u001b[39m \u001b[39mNone\u001b[39;00m \u001b[39m=\u001b[39m \u001b[39mNone\u001b[39;00m\n\u001b[0;32m--> 933\u001b[0m \u001b[39mself\u001b[39m\u001b[39m.\u001b[39m_engine \u001b[39m=\u001b[39m \u001b[39mself\u001b[39;49m\u001b[39m.\u001b[39;49m_make_engine(f, \u001b[39mself\u001b[39;49m\u001b[39m.\u001b[39;49mengine)\n",
      "File \u001b[0;32m~/opt/anaconda3/envs/test/lib/python3.10/site-packages/pandas/io/parsers/readers.py:1217\u001b[0m, in \u001b[0;36mTextFileReader._make_engine\u001b[0;34m(self, f, engine)\u001b[0m\n\u001b[1;32m   1213\u001b[0m     mode \u001b[39m=\u001b[39m \u001b[39m\"\u001b[39m\u001b[39mrb\u001b[39m\u001b[39m\"\u001b[39m\n\u001b[1;32m   1214\u001b[0m \u001b[39m# error: No overload variant of \"get_handle\" matches argument types\u001b[39;00m\n\u001b[1;32m   1215\u001b[0m \u001b[39m# \"Union[str, PathLike[str], ReadCsvBuffer[bytes], ReadCsvBuffer[str]]\"\u001b[39;00m\n\u001b[1;32m   1216\u001b[0m \u001b[39m# , \"str\", \"bool\", \"Any\", \"Any\", \"Any\", \"Any\", \"Any\"\u001b[39;00m\n\u001b[0;32m-> 1217\u001b[0m \u001b[39mself\u001b[39m\u001b[39m.\u001b[39mhandles \u001b[39m=\u001b[39m get_handle(  \u001b[39m# type: ignore[call-overload]\u001b[39;49;00m\n\u001b[1;32m   1218\u001b[0m     f,\n\u001b[1;32m   1219\u001b[0m     mode,\n\u001b[1;32m   1220\u001b[0m     encoding\u001b[39m=\u001b[39;49m\u001b[39mself\u001b[39;49m\u001b[39m.\u001b[39;49moptions\u001b[39m.\u001b[39;49mget(\u001b[39m\"\u001b[39;49m\u001b[39mencoding\u001b[39;49m\u001b[39m\"\u001b[39;49m, \u001b[39mNone\u001b[39;49;00m),\n\u001b[1;32m   1221\u001b[0m     compression\u001b[39m=\u001b[39;49m\u001b[39mself\u001b[39;49m\u001b[39m.\u001b[39;49moptions\u001b[39m.\u001b[39;49mget(\u001b[39m\"\u001b[39;49m\u001b[39mcompression\u001b[39;49m\u001b[39m\"\u001b[39;49m, \u001b[39mNone\u001b[39;49;00m),\n\u001b[1;32m   1222\u001b[0m     memory_map\u001b[39m=\u001b[39;49m\u001b[39mself\u001b[39;49m\u001b[39m.\u001b[39;49moptions\u001b[39m.\u001b[39;49mget(\u001b[39m\"\u001b[39;49m\u001b[39mmemory_map\u001b[39;49m\u001b[39m\"\u001b[39;49m, \u001b[39mFalse\u001b[39;49;00m),\n\u001b[1;32m   1223\u001b[0m     is_text\u001b[39m=\u001b[39;49mis_text,\n\u001b[1;32m   1224\u001b[0m     errors\u001b[39m=\u001b[39;49m\u001b[39mself\u001b[39;49m\u001b[39m.\u001b[39;49moptions\u001b[39m.\u001b[39;49mget(\u001b[39m\"\u001b[39;49m\u001b[39mencoding_errors\u001b[39;49m\u001b[39m\"\u001b[39;49m, \u001b[39m\"\u001b[39;49m\u001b[39mstrict\u001b[39;49m\u001b[39m\"\u001b[39;49m),\n\u001b[1;32m   1225\u001b[0m     storage_options\u001b[39m=\u001b[39;49m\u001b[39mself\u001b[39;49m\u001b[39m.\u001b[39;49moptions\u001b[39m.\u001b[39;49mget(\u001b[39m\"\u001b[39;49m\u001b[39mstorage_options\u001b[39;49m\u001b[39m\"\u001b[39;49m, \u001b[39mNone\u001b[39;49;00m),\n\u001b[1;32m   1226\u001b[0m )\n\u001b[1;32m   1227\u001b[0m \u001b[39massert\u001b[39;00m \u001b[39mself\u001b[39m\u001b[39m.\u001b[39mhandles \u001b[39mis\u001b[39;00m \u001b[39mnot\u001b[39;00m \u001b[39mNone\u001b[39;00m\n\u001b[1;32m   1228\u001b[0m f \u001b[39m=\u001b[39m \u001b[39mself\u001b[39m\u001b[39m.\u001b[39mhandles\u001b[39m.\u001b[39mhandle\n",
      "File \u001b[0;32m~/opt/anaconda3/envs/test/lib/python3.10/site-packages/pandas/io/common.py:789\u001b[0m, in \u001b[0;36mget_handle\u001b[0;34m(path_or_buf, mode, encoding, compression, memory_map, is_text, errors, storage_options)\u001b[0m\n\u001b[1;32m    784\u001b[0m \u001b[39melif\u001b[39;00m \u001b[39misinstance\u001b[39m(handle, \u001b[39mstr\u001b[39m):\n\u001b[1;32m    785\u001b[0m     \u001b[39m# Check whether the filename is to be opened in binary mode.\u001b[39;00m\n\u001b[1;32m    786\u001b[0m     \u001b[39m# Binary mode does not support 'encoding' and 'newline'.\u001b[39;00m\n\u001b[1;32m    787\u001b[0m     \u001b[39mif\u001b[39;00m ioargs\u001b[39m.\u001b[39mencoding \u001b[39mand\u001b[39;00m \u001b[39m\"\u001b[39m\u001b[39mb\u001b[39m\u001b[39m\"\u001b[39m \u001b[39mnot\u001b[39;00m \u001b[39min\u001b[39;00m ioargs\u001b[39m.\u001b[39mmode:\n\u001b[1;32m    788\u001b[0m         \u001b[39m# Encoding\u001b[39;00m\n\u001b[0;32m--> 789\u001b[0m         handle \u001b[39m=\u001b[39m \u001b[39mopen\u001b[39;49m(\n\u001b[1;32m    790\u001b[0m             handle,\n\u001b[1;32m    791\u001b[0m             ioargs\u001b[39m.\u001b[39;49mmode,\n\u001b[1;32m    792\u001b[0m             encoding\u001b[39m=\u001b[39;49mioargs\u001b[39m.\u001b[39;49mencoding,\n\u001b[1;32m    793\u001b[0m             errors\u001b[39m=\u001b[39;49merrors,\n\u001b[1;32m    794\u001b[0m             newline\u001b[39m=\u001b[39;49m\u001b[39m\"\u001b[39;49m\u001b[39m\"\u001b[39;49m,\n\u001b[1;32m    795\u001b[0m         )\n\u001b[1;32m    796\u001b[0m     \u001b[39melse\u001b[39;00m:\n\u001b[1;32m    797\u001b[0m         \u001b[39m# Binary mode\u001b[39;00m\n\u001b[1;32m    798\u001b[0m         handle \u001b[39m=\u001b[39m \u001b[39mopen\u001b[39m(handle, ioargs\u001b[39m.\u001b[39mmode)\n",
      "\u001b[0;31mFileNotFoundError\u001b[0m: [Errno 2] No such file or directory: '../annot/cpg_annotation.csv'"
     ]
    }
   ],
   "source": [
    "chromosome_distance = {'1':0, \n",
    "'2': 249250621,\n",
    "'3': 492449994,\n",
    "'4': 690472424,\n",
    "'5': 881626700,\n",
    "'6': 1062541960,\n",
    "'7': 1233657027,\n",
    "'8': 1392795690,\n",
    "'9': 1539159712,\n",
    "'10': 1680373143,\n",
    "'11': 1815907890,\n",
    "'12': 1950914406,\n",
    "'13': 2084766301,\n",
    "'14': 2199936179,\n",
    "'15': 2307285719,\n",
    "'16': 2409817111,\n",
    "'17': 2500171864,\n",
    "'18': 2581367074,\n",
    "'19': 2659444322,\n",
    "'20': 2718573305,\n",
    "'21': 2781598825,\n",
    "'22': 2829728720,\n",
    "'X': 2881033286,\n",
    "'Y': 3036303846}\n",
    "\n",
    "minAssoc = 10\n",
    "minDistance = 1e6\n",
    "minPval = 1e-6\n",
    "chromosomeList = ['1','2','3','4','5','6','7','8','9','10','11','12'] \n",
    " \n",
    "\n",
    "data = pd.read_csv('../data/edit_ld_clump_assoc.csv',index_col=0) \n",
    "annot = pd.read_csv('../data/annot/cpg_annotation.csv',index_col=0)\n",
    "chr_lst = chromosomeList\n",
    "data['cpg_chr'] = data['cpg_chr'].apply(str)\n",
    "data['snp_chr'] = data['snp_chr'].apply(str)\n",
    "\n",
    "data = data[data['cistrans']==False]\n",
    "\n",
    "data = data.groupby('cpg') # group data by cpgs\n",
    "data = data.filter(lambda x: len(x) >= minAssoc) # filter by number of associations per cpg\n",
    "\n",
    "data = data[data['cpg_chr'].isin(chr_lst)]\n",
    "data = data[data['pval']<=1*10**-minPval]\n",
    "\n",
    "data['cpg_pos_abs'] = data['cpg_chr'].apply(lambda cpg_chr: chromosome_distance[str(cpg_chr)]) + data['cpg_pos'] # calculate absolute distance of cpg\n",
    "data['snp_pos_abs'] = data['snp_chr'].apply(lambda snp_chr: chromosome_distance[str(snp_chr)]) + data['snp_pos'] # calculate absolute distance of snp\n",
    "data['dist'] = abs(data['cpg_pos_abs'] - data['snp_pos_abs']) # calculate distance between pairs\n",
    "data = data[data['dist']>=minDistance] # filter by min distance\n",
    "\n",
    "data = data.reset_index(drop=True)\n",
    "\n",
    "data = data.merge(annot,how='left',on='cpg')\n",
    "    \n",
    "data['UCSC_RefGene_Name'] = data['UCSC_RefGene_Name'].fillna('no annotation')\n",
    "\n",
    "data.drop(['MAPINFO','CHR'],axis=1,inplace=True)\n",
    "\n",
    "response = data.to_dict('records')  \n",
    "\n"
   ]
  },
  {
   "cell_type": "code",
   "execution_count": null,
   "metadata": {},
   "outputs": [],
   "source": [
    "data[data['UCSC_RefGene_Name'].isna()]"
   ]
  },
  {
   "cell_type": "code",
   "execution_count": null,
   "metadata": {},
   "outputs": [],
   "source": [
    "data"
   ]
  },
  {
   "cell_type": "code",
   "execution_count": 42,
   "metadata": {},
   "outputs": [
    {
     "name": "stderr",
     "output_type": "stream",
     "text": [
      "/var/folders/qm/j16hfspx3wqgdhdmm1rk8q_80000gp/T/ipykernel_13475/4070678898.py:2: DtypeWarning: Columns (2,9) have mixed types. Specify dtype option on import or set low_memory=False.\n",
      "  ewas_res = pd.read_csv(\"../data/raw/ewascatalog-results.txt\",delimiter=\"\\t\")\n",
      "/var/folders/qm/j16hfspx3wqgdhdmm1rk8q_80000gp/T/ipykernel_13475/4070678898.py:5: SettingWithCopyWarning: \n",
      "A value is trying to be set on a copy of a slice from a DataFrame.\n",
      "Try using .loc[row_indexer,col_indexer] = value instead\n",
      "\n",
      "See the caveats in the documentation: https://pandas.pydata.org/pandas-docs/stable/user_guide/indexing.html#returning-a-view-versus-a-copy\n",
      "  ewas_res['Chr'] = ewas_res['Chr'].apply(str)\n"
     ]
    }
   ],
   "source": [
    "import pandas as pd\n",
    "ewas_res = pd.read_csv(\"../data/raw/ewascatalog-results.txt\",delimiter=\"\\t\")\n",
    "ewas_stud = pd.read_csv(\"../data/raw/ewascatalog-studies.txt\",delimiter=\"\\t\")\n",
    "ewas_res = ewas_res[['CpG','Chr','Pos','Gene','Beta','SE','P','StudyID']]\n",
    "ewas_res['Chr'] = ewas_res['Chr']\n",
    "ewas_res = ewas_res[ewas_res['CpG'].str.startswith('cg')]\n",
    "ewas_stud = ewas_stud[['Trait','Exposure','N','StudyID','Age','Sex','Ancestry','Tissue']]\n",
    "ewas_res.to_csv('ewas_results.csv')\n",
    "ewas_stud.to_csv('ewas_stud.csv')"
   ]
  },
  {
   "cell_type": "code",
   "execution_count": 43,
   "metadata": {},
   "outputs": [
    {
     "name": "stderr",
     "output_type": "stream",
     "text": [
      "/var/folders/qm/j16hfspx3wqgdhdmm1rk8q_80000gp/T/ipykernel_13475/1620343873.py:1: DtypeWarning: Columns (2) have mixed types. Specify dtype option on import or set low_memory=False.\n",
      "  ewas_res = pd.read_csv('ewas_results.csv',index_col=0)\n"
     ]
    }
   ],
   "source": [
    "ewas_res = pd.read_csv('ewas_results.csv',index_col=0)"
   ]
  },
  {
   "cell_type": "code",
   "execution_count": 46,
   "metadata": {},
   "outputs": [
    {
     "data": {
      "text/plain": [
       "0           Y\n",
       "1           Y\n",
       "2           Y\n",
       "3           Y\n",
       "4           Y\n",
       "           ..\n",
       "2061551    19\n",
       "2061552    22\n",
       "2061553    17\n",
       "2061554     2\n",
       "2061555    11\n",
       "Name: Chr, Length: 2047909, dtype: object"
      ]
     },
     "execution_count": 46,
     "metadata": {},
     "output_type": "execute_result"
    }
   ],
   "source": [
    "ewas_res['Chr'].apply(str)"
   ]
  },
  {
   "cell_type": "code",
   "execution_count": 30,
   "metadata": {},
   "outputs": [
    {
     "data": {
      "text/plain": [
       "0          cg00035864\n",
       "1          cg00050873\n",
       "2          cg00455876\n",
       "3          cg01707559\n",
       "4          cg02012379\n",
       "              ...    \n",
       "2047904    cg27586378\n",
       "2047905    cg27601574\n",
       "2047906    cg27605300\n",
       "2047907    cg27616833\n",
       "2047908    cg27651452\n",
       "Name: CpG, Length: 2047909, dtype: object"
      ]
     },
     "execution_count": 30,
     "metadata": {},
     "output_type": "execute_result"
    }
   ],
   "source": [
    "ewas_res['CpG'].apply(str)"
   ]
  },
  {
   "cell_type": "code",
   "execution_count": 47,
   "metadata": {},
   "outputs": [
    {
     "data": {
      "text/html": [
       "<div>\n",
       "<style scoped>\n",
       "    .dataframe tbody tr th:only-of-type {\n",
       "        vertical-align: middle;\n",
       "    }\n",
       "\n",
       "    .dataframe tbody tr th {\n",
       "        vertical-align: top;\n",
       "    }\n",
       "\n",
       "    .dataframe thead th {\n",
       "        text-align: right;\n",
       "    }\n",
       "</style>\n",
       "<table border=\"1\" class=\"dataframe\">\n",
       "  <thead>\n",
       "    <tr style=\"text-align: right;\">\n",
       "      <th></th>\n",
       "      <th>CpG</th>\n",
       "      <th>Chr</th>\n",
       "      <th>Pos</th>\n",
       "      <th>Gene</th>\n",
       "      <th>Beta</th>\n",
       "      <th>SE</th>\n",
       "      <th>P</th>\n",
       "      <th>StudyID</th>\n",
       "    </tr>\n",
       "  </thead>\n",
       "  <tbody>\n",
       "    <tr>\n",
       "      <th>0</th>\n",
       "      <td>cg00035864</td>\n",
       "      <td>Y</td>\n",
       "      <td>8553009.0</td>\n",
       "      <td>TTTY18</td>\n",
       "      <td>-1.081078</td>\n",
       "      <td>0.227700</td>\n",
       "      <td>2.060000e-06</td>\n",
       "      <td>27105112_hiv_infection_discovery</td>\n",
       "    </tr>\n",
       "    <tr>\n",
       "      <th>1</th>\n",
       "      <td>cg00050873</td>\n",
       "      <td>Y</td>\n",
       "      <td>9363356.0</td>\n",
       "      <td>TSPY4;FAM197Y2</td>\n",
       "      <td>-1.746455</td>\n",
       "      <td>0.346400</td>\n",
       "      <td>4.600000e-07</td>\n",
       "      <td>27105112_hiv_infection_discovery</td>\n",
       "    </tr>\n",
       "    <tr>\n",
       "      <th>2</th>\n",
       "      <td>cg00455876</td>\n",
       "      <td>Y</td>\n",
       "      <td>9385539.0</td>\n",
       "      <td>-</td>\n",
       "      <td>-1.953244</td>\n",
       "      <td>0.289100</td>\n",
       "      <td>1.410000e-11</td>\n",
       "      <td>27105112_hiv_infection_discovery</td>\n",
       "    </tr>\n",
       "    <tr>\n",
       "      <th>3</th>\n",
       "      <td>cg01707559</td>\n",
       "      <td>Y</td>\n",
       "      <td>6778695.0</td>\n",
       "      <td>TBL1Y</td>\n",
       "      <td>1.151949</td>\n",
       "      <td>0.272100</td>\n",
       "      <td>2.300000e-05</td>\n",
       "      <td>27105112_hiv_infection_discovery</td>\n",
       "    </tr>\n",
       "    <tr>\n",
       "      <th>4</th>\n",
       "      <td>cg02012379</td>\n",
       "      <td>Y</td>\n",
       "      <td>22917894.0</td>\n",
       "      <td>RPS4Y2</td>\n",
       "      <td>-1.751271</td>\n",
       "      <td>0.242100</td>\n",
       "      <td>4.720000e-13</td>\n",
       "      <td>27105112_hiv_infection_discovery</td>\n",
       "    </tr>\n",
       "    <tr>\n",
       "      <th>...</th>\n",
       "      <td>...</td>\n",
       "      <td>...</td>\n",
       "      <td>...</td>\n",
       "      <td>...</td>\n",
       "      <td>...</td>\n",
       "      <td>...</td>\n",
       "      <td>...</td>\n",
       "      <td>...</td>\n",
       "    </tr>\n",
       "    <tr>\n",
       "      <th>2061551</th>\n",
       "      <td>cg27586378</td>\n",
       "      <td>19</td>\n",
       "      <td>49063066.0</td>\n",
       "      <td>SULT2B1</td>\n",
       "      <td>-0.000560</td>\n",
       "      <td>0.000130</td>\n",
       "      <td>2.800000e-05</td>\n",
       "      <td>Fernandez-Jimenez-N_maternal_pre-pregnancy_bod...</td>\n",
       "    </tr>\n",
       "    <tr>\n",
       "      <th>2061552</th>\n",
       "      <td>cg27601574</td>\n",
       "      <td>22</td>\n",
       "      <td>31498863.0</td>\n",
       "      <td>SMTN</td>\n",
       "      <td>-0.000830</td>\n",
       "      <td>0.000180</td>\n",
       "      <td>4.900000e-06</td>\n",
       "      <td>Fernandez-Jimenez-N_maternal_pre-pregnancy_bod...</td>\n",
       "    </tr>\n",
       "    <tr>\n",
       "      <th>2061553</th>\n",
       "      <td>cg27605300</td>\n",
       "      <td>17</td>\n",
       "      <td>79360456.0</td>\n",
       "      <td>-</td>\n",
       "      <td>-0.000170</td>\n",
       "      <td>0.000036</td>\n",
       "      <td>8.300000e-07</td>\n",
       "      <td>Fernandez-Jimenez-N_maternal_pre-pregnancy_bod...</td>\n",
       "    </tr>\n",
       "    <tr>\n",
       "      <th>2061554</th>\n",
       "      <td>cg27616833</td>\n",
       "      <td>2</td>\n",
       "      <td>106060221.0</td>\n",
       "      <td>-</td>\n",
       "      <td>-0.000660</td>\n",
       "      <td>0.000140</td>\n",
       "      <td>2.300000e-06</td>\n",
       "      <td>Fernandez-Jimenez-N_maternal_pre-pregnancy_bod...</td>\n",
       "    </tr>\n",
       "    <tr>\n",
       "      <th>2061555</th>\n",
       "      <td>cg27651452</td>\n",
       "      <td>11</td>\n",
       "      <td>64035061.0</td>\n",
       "      <td>-</td>\n",
       "      <td>-0.000770</td>\n",
       "      <td>0.000170</td>\n",
       "      <td>4.600000e-06</td>\n",
       "      <td>Fernandez-Jimenez-N_maternal_pre-pregnancy_bod...</td>\n",
       "    </tr>\n",
       "  </tbody>\n",
       "</table>\n",
       "<p>2047909 rows × 8 columns</p>\n",
       "</div>"
      ],
      "text/plain": [
       "                CpG Chr          Pos            Gene      Beta        SE  \\\n",
       "0        cg00035864   Y    8553009.0          TTTY18 -1.081078  0.227700   \n",
       "1        cg00050873   Y    9363356.0  TSPY4;FAM197Y2 -1.746455  0.346400   \n",
       "2        cg00455876   Y    9385539.0               - -1.953244  0.289100   \n",
       "3        cg01707559   Y    6778695.0           TBL1Y  1.151949  0.272100   \n",
       "4        cg02012379   Y   22917894.0          RPS4Y2 -1.751271  0.242100   \n",
       "...             ...  ..          ...             ...       ...       ...   \n",
       "2061551  cg27586378  19   49063066.0         SULT2B1 -0.000560  0.000130   \n",
       "2061552  cg27601574  22   31498863.0            SMTN -0.000830  0.000180   \n",
       "2061553  cg27605300  17   79360456.0               - -0.000170  0.000036   \n",
       "2061554  cg27616833   2  106060221.0               - -0.000660  0.000140   \n",
       "2061555  cg27651452  11   64035061.0               - -0.000770  0.000170   \n",
       "\n",
       "                    P                                            StudyID  \n",
       "0        2.060000e-06                   27105112_hiv_infection_discovery  \n",
       "1        4.600000e-07                   27105112_hiv_infection_discovery  \n",
       "2        1.410000e-11                   27105112_hiv_infection_discovery  \n",
       "3        2.300000e-05                   27105112_hiv_infection_discovery  \n",
       "4        4.720000e-13                   27105112_hiv_infection_discovery  \n",
       "...               ...                                                ...  \n",
       "2061551  2.800000e-05  Fernandez-Jimenez-N_maternal_pre-pregnancy_bod...  \n",
       "2061552  4.900000e-06  Fernandez-Jimenez-N_maternal_pre-pregnancy_bod...  \n",
       "2061553  8.300000e-07  Fernandez-Jimenez-N_maternal_pre-pregnancy_bod...  \n",
       "2061554  2.300000e-06  Fernandez-Jimenez-N_maternal_pre-pregnancy_bod...  \n",
       "2061555  4.600000e-06  Fernandez-Jimenez-N_maternal_pre-pregnancy_bod...  \n",
       "\n",
       "[2047909 rows x 8 columns]"
      ]
     },
     "execution_count": 47,
     "metadata": {},
     "output_type": "execute_result"
    }
   ],
   "source": []
  },
  {
   "cell_type": "code",
   "execution_count": null,
   "metadata": {},
   "outputs": [],
   "source": []
  }
 ],
 "metadata": {
  "kernelspec": {
   "display_name": "Python 3.10.0 ('test')",
   "language": "python",
   "name": "python3"
  },
  "language_info": {
   "codemirror_mode": {
    "name": "ipython",
    "version": 3
   },
   "file_extension": ".py",
   "mimetype": "text/x-python",
   "name": "python",
   "nbconvert_exporter": "python",
   "pygments_lexer": "ipython3",
   "version": "3.10.0"
  },
  "orig_nbformat": 4,
  "vscode": {
   "interpreter": {
    "hash": "904935d54ec79a1afcfaf087c39b476cf8589b5fa85396865b2d34a44e4112f3"
   }
  }
 },
 "nbformat": 4,
 "nbformat_minor": 2
}
